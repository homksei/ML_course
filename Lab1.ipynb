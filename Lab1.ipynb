{
 "cells": [
  {
   "cell_type": "markdown",
   "metadata": {},
   "source": [
    "\n",
    "\n",
    "\n"
   ]
  },
  {
   "cell_type": "code",
   "execution_count": 1,
   "metadata": {},
   "outputs": [],
   "source": [
    "import numpy as np\n",
    "import matplotlib.pyplot as plt\n",
    "import pandas as pd\n",
    "%matplotlib inline"
   ]
  },
  {
   "cell_type": "code",
   "execution_count": 64,
   "metadata": {},
   "outputs": [],
   "source": [
    "data = pd.read_csv('pokemon.csv', engine = 'python')"
   ]
  },
  {
   "cell_type": "code",
   "execution_count": 3,
   "metadata": {},
   "outputs": [
    {
     "data": {
      "text/plain": [
       "pandas.core.frame.DataFrame"
      ]
     },
     "execution_count": 3,
     "metadata": {},
     "output_type": "execute_result"
    }
   ],
   "source": [
    "type(data)"
   ]
  },
  {
   "cell_type": "markdown",
   "metadata": {},
   "source": [
    "##### Смотрим на таблицы из файла:"
   ]
  },
  {
   "cell_type": "code",
   "execution_count": 65,
   "metadata": {
    "scrolled": false
   },
   "outputs": [
    {
     "data": {
      "text/html": [
       "<div>\n",
       "<style scoped>\n",
       "    .dataframe tbody tr th:only-of-type {\n",
       "        vertical-align: middle;\n",
       "    }\n",
       "\n",
       "    .dataframe tbody tr th {\n",
       "        vertical-align: top;\n",
       "    }\n",
       "\n",
       "    .dataframe thead th {\n",
       "        text-align: right;\n",
       "    }\n",
       "</style>\n",
       "<table border=\"1\" class=\"dataframe\">\n",
       "  <thead>\n",
       "    <tr style=\"text-align: right;\">\n",
       "      <th></th>\n",
       "      <th>Name</th>\n",
       "      <th>Type1</th>\n",
       "      <th>Type2</th>\n",
       "    </tr>\n",
       "  </thead>\n",
       "  <tbody>\n",
       "    <tr>\n",
       "      <th>0</th>\n",
       "      <td>bulbasaur</td>\n",
       "      <td>Grass</td>\n",
       "      <td>Poison</td>\n",
       "    </tr>\n",
       "    <tr>\n",
       "      <th>1</th>\n",
       "      <td>ivysaur</td>\n",
       "      <td>Grass</td>\n",
       "      <td>Poison</td>\n",
       "    </tr>\n",
       "    <tr>\n",
       "      <th>2</th>\n",
       "      <td>venusaur</td>\n",
       "      <td>Grass</td>\n",
       "      <td>Poison</td>\n",
       "    </tr>\n",
       "    <tr>\n",
       "      <th>3</th>\n",
       "      <td>charmander</td>\n",
       "      <td>Fire</td>\n",
       "      <td>None</td>\n",
       "    </tr>\n",
       "    <tr>\n",
       "      <th>4</th>\n",
       "      <td>charmeleon</td>\n",
       "      <td>Fire</td>\n",
       "      <td>None</td>\n",
       "    </tr>\n",
       "    <tr>\n",
       "      <th>5</th>\n",
       "      <td>charizard</td>\n",
       "      <td>Fire</td>\n",
       "      <td>Flying</td>\n",
       "    </tr>\n",
       "    <tr>\n",
       "      <th>6</th>\n",
       "      <td>squirtle</td>\n",
       "      <td>Water</td>\n",
       "      <td>None</td>\n",
       "    </tr>\n",
       "    <tr>\n",
       "      <th>7</th>\n",
       "      <td>wartortle</td>\n",
       "      <td>Water</td>\n",
       "      <td>None</td>\n",
       "    </tr>\n",
       "    <tr>\n",
       "      <th>8</th>\n",
       "      <td>blastoise</td>\n",
       "      <td>Water</td>\n",
       "      <td>None</td>\n",
       "    </tr>\n",
       "    <tr>\n",
       "      <th>9</th>\n",
       "      <td>caterpie</td>\n",
       "      <td>Bug</td>\n",
       "      <td>None</td>\n",
       "    </tr>\n",
       "    <tr>\n",
       "      <th>10</th>\n",
       "      <td>metapod</td>\n",
       "      <td>Bug</td>\n",
       "      <td>None</td>\n",
       "    </tr>\n",
       "    <tr>\n",
       "      <th>11</th>\n",
       "      <td>butterfree</td>\n",
       "      <td>Bug</td>\n",
       "      <td>Flying</td>\n",
       "    </tr>\n",
       "    <tr>\n",
       "      <th>12</th>\n",
       "      <td>weedle</td>\n",
       "      <td>Bug</td>\n",
       "      <td>Poison</td>\n",
       "    </tr>\n",
       "    <tr>\n",
       "      <th>13</th>\n",
       "      <td>kakuna</td>\n",
       "      <td>Bug</td>\n",
       "      <td>Poison</td>\n",
       "    </tr>\n",
       "    <tr>\n",
       "      <th>14</th>\n",
       "      <td>beedrill</td>\n",
       "      <td>Bug</td>\n",
       "      <td>Poison</td>\n",
       "    </tr>\n",
       "    <tr>\n",
       "      <th>15</th>\n",
       "      <td>pidgey</td>\n",
       "      <td>Normal</td>\n",
       "      <td>Flying</td>\n",
       "    </tr>\n",
       "    <tr>\n",
       "      <th>16</th>\n",
       "      <td>pidgeotto</td>\n",
       "      <td>Normal</td>\n",
       "      <td>Flying</td>\n",
       "    </tr>\n",
       "    <tr>\n",
       "      <th>17</th>\n",
       "      <td>pidgeot</td>\n",
       "      <td>Normal</td>\n",
       "      <td>Flying</td>\n",
       "    </tr>\n",
       "    <tr>\n",
       "      <th>18</th>\n",
       "      <td>rattata</td>\n",
       "      <td>Normal</td>\n",
       "      <td>None</td>\n",
       "    </tr>\n",
       "    <tr>\n",
       "      <th>19</th>\n",
       "      <td>raticate</td>\n",
       "      <td>Normal</td>\n",
       "      <td>None</td>\n",
       "    </tr>\n",
       "    <tr>\n",
       "      <th>20</th>\n",
       "      <td>spearow</td>\n",
       "      <td>Normal</td>\n",
       "      <td>Flying</td>\n",
       "    </tr>\n",
       "    <tr>\n",
       "      <th>21</th>\n",
       "      <td>fearow</td>\n",
       "      <td>Normal</td>\n",
       "      <td>Flying</td>\n",
       "    </tr>\n",
       "    <tr>\n",
       "      <th>22</th>\n",
       "      <td>ekans</td>\n",
       "      <td>Poison</td>\n",
       "      <td>None</td>\n",
       "    </tr>\n",
       "    <tr>\n",
       "      <th>23</th>\n",
       "      <td>arbok</td>\n",
       "      <td>Poison</td>\n",
       "      <td>None</td>\n",
       "    </tr>\n",
       "    <tr>\n",
       "      <th>24</th>\n",
       "      <td>pikachu</td>\n",
       "      <td>Electric</td>\n",
       "      <td>None</td>\n",
       "    </tr>\n",
       "    <tr>\n",
       "      <th>25</th>\n",
       "      <td>raichu</td>\n",
       "      <td>Electric</td>\n",
       "      <td>None</td>\n",
       "    </tr>\n",
       "    <tr>\n",
       "      <th>26</th>\n",
       "      <td>sandshrew</td>\n",
       "      <td>Ground</td>\n",
       "      <td>None</td>\n",
       "    </tr>\n",
       "    <tr>\n",
       "      <th>27</th>\n",
       "      <td>sandslash</td>\n",
       "      <td>Ground</td>\n",
       "      <td>None</td>\n",
       "    </tr>\n",
       "    <tr>\n",
       "      <th>28</th>\n",
       "      <td>nidoran-f</td>\n",
       "      <td>Poison</td>\n",
       "      <td>None</td>\n",
       "    </tr>\n",
       "    <tr>\n",
       "      <th>29</th>\n",
       "      <td>nidorina</td>\n",
       "      <td>Poison</td>\n",
       "      <td>None</td>\n",
       "    </tr>\n",
       "    <tr>\n",
       "      <th>...</th>\n",
       "      <td>...</td>\n",
       "      <td>...</td>\n",
       "      <td>...</td>\n",
       "    </tr>\n",
       "    <tr>\n",
       "      <th>779</th>\n",
       "      <td>drampa</td>\n",
       "      <td>Normal</td>\n",
       "      <td>Dragon</td>\n",
       "    </tr>\n",
       "    <tr>\n",
       "      <th>780</th>\n",
       "      <td>dhelmise</td>\n",
       "      <td>Ghost</td>\n",
       "      <td>Grass</td>\n",
       "    </tr>\n",
       "    <tr>\n",
       "      <th>781</th>\n",
       "      <td>jangmo-o</td>\n",
       "      <td>Dragon</td>\n",
       "      <td>None</td>\n",
       "    </tr>\n",
       "    <tr>\n",
       "      <th>782</th>\n",
       "      <td>hakamo-o</td>\n",
       "      <td>Dragon</td>\n",
       "      <td>Fighting</td>\n",
       "    </tr>\n",
       "    <tr>\n",
       "      <th>783</th>\n",
       "      <td>kommo-o</td>\n",
       "      <td>Dragon</td>\n",
       "      <td>Fighting</td>\n",
       "    </tr>\n",
       "    <tr>\n",
       "      <th>784</th>\n",
       "      <td>tapu-koko</td>\n",
       "      <td>Electric</td>\n",
       "      <td>Fairy</td>\n",
       "    </tr>\n",
       "    <tr>\n",
       "      <th>785</th>\n",
       "      <td>tapu-lele</td>\n",
       "      <td>Psychic</td>\n",
       "      <td>Fairy</td>\n",
       "    </tr>\n",
       "    <tr>\n",
       "      <th>786</th>\n",
       "      <td>tapu-bulu</td>\n",
       "      <td>Grass</td>\n",
       "      <td>Fairy</td>\n",
       "    </tr>\n",
       "    <tr>\n",
       "      <th>787</th>\n",
       "      <td>tapu-fini</td>\n",
       "      <td>Water</td>\n",
       "      <td>Fairy</td>\n",
       "    </tr>\n",
       "    <tr>\n",
       "      <th>788</th>\n",
       "      <td>cosmog</td>\n",
       "      <td>Psychic</td>\n",
       "      <td>None</td>\n",
       "    </tr>\n",
       "    <tr>\n",
       "      <th>789</th>\n",
       "      <td>cosmoem</td>\n",
       "      <td>Psychic</td>\n",
       "      <td>None</td>\n",
       "    </tr>\n",
       "    <tr>\n",
       "      <th>790</th>\n",
       "      <td>solgaleo</td>\n",
       "      <td>Psychic</td>\n",
       "      <td>Steel</td>\n",
       "    </tr>\n",
       "    <tr>\n",
       "      <th>791</th>\n",
       "      <td>lunala</td>\n",
       "      <td>Psychic</td>\n",
       "      <td>Ghost</td>\n",
       "    </tr>\n",
       "    <tr>\n",
       "      <th>792</th>\n",
       "      <td>nihilego</td>\n",
       "      <td>Rock</td>\n",
       "      <td>Poison</td>\n",
       "    </tr>\n",
       "    <tr>\n",
       "      <th>793</th>\n",
       "      <td>buzzwole</td>\n",
       "      <td>Bug</td>\n",
       "      <td>Fighting</td>\n",
       "    </tr>\n",
       "    <tr>\n",
       "      <th>794</th>\n",
       "      <td>pheromosa</td>\n",
       "      <td>Bug</td>\n",
       "      <td>Fighting</td>\n",
       "    </tr>\n",
       "    <tr>\n",
       "      <th>795</th>\n",
       "      <td>xurkitree</td>\n",
       "      <td>Electric</td>\n",
       "      <td>None</td>\n",
       "    </tr>\n",
       "    <tr>\n",
       "      <th>796</th>\n",
       "      <td>celesteela</td>\n",
       "      <td>Steel</td>\n",
       "      <td>Flying</td>\n",
       "    </tr>\n",
       "    <tr>\n",
       "      <th>797</th>\n",
       "      <td>kartana</td>\n",
       "      <td>Grass</td>\n",
       "      <td>Steel</td>\n",
       "    </tr>\n",
       "    <tr>\n",
       "      <th>798</th>\n",
       "      <td>guzzlord</td>\n",
       "      <td>Dark</td>\n",
       "      <td>Dragon</td>\n",
       "    </tr>\n",
       "    <tr>\n",
       "      <th>799</th>\n",
       "      <td>necrozma</td>\n",
       "      <td>Psychic</td>\n",
       "      <td>None</td>\n",
       "    </tr>\n",
       "    <tr>\n",
       "      <th>800</th>\n",
       "      <td>magearna</td>\n",
       "      <td>Steel</td>\n",
       "      <td>Fairy</td>\n",
       "    </tr>\n",
       "    <tr>\n",
       "      <th>801</th>\n",
       "      <td>marshadow</td>\n",
       "      <td>Fighting</td>\n",
       "      <td>Ghost</td>\n",
       "    </tr>\n",
       "    <tr>\n",
       "      <th>802</th>\n",
       "      <td>poipole</td>\n",
       "      <td>Poison</td>\n",
       "      <td>None</td>\n",
       "    </tr>\n",
       "    <tr>\n",
       "      <th>803</th>\n",
       "      <td>naganadel</td>\n",
       "      <td>Poison</td>\n",
       "      <td>Dragon</td>\n",
       "    </tr>\n",
       "    <tr>\n",
       "      <th>804</th>\n",
       "      <td>stakataka</td>\n",
       "      <td>Rock</td>\n",
       "      <td>Steel</td>\n",
       "    </tr>\n",
       "    <tr>\n",
       "      <th>805</th>\n",
       "      <td>blacephalon</td>\n",
       "      <td>Fire</td>\n",
       "      <td>Ghost</td>\n",
       "    </tr>\n",
       "    <tr>\n",
       "      <th>806</th>\n",
       "      <td>zeraora</td>\n",
       "      <td>Electric</td>\n",
       "      <td>None</td>\n",
       "    </tr>\n",
       "    <tr>\n",
       "      <th>807</th>\n",
       "      <td>meltan</td>\n",
       "      <td>Steel</td>\n",
       "      <td>None</td>\n",
       "    </tr>\n",
       "    <tr>\n",
       "      <th>808</th>\n",
       "      <td>melmetal</td>\n",
       "      <td>Steel</td>\n",
       "      <td>None</td>\n",
       "    </tr>\n",
       "  </tbody>\n",
       "</table>\n",
       "<p>809 rows × 3 columns</p>\n",
       "</div>"
      ],
      "text/plain": [
       "            Name     Type1     Type2\n",
       "0      bulbasaur     Grass    Poison\n",
       "1        ivysaur     Grass    Poison\n",
       "2       venusaur     Grass    Poison\n",
       "3     charmander      Fire      None\n",
       "4     charmeleon      Fire      None\n",
       "5      charizard      Fire    Flying\n",
       "6       squirtle     Water      None\n",
       "7      wartortle     Water      None\n",
       "8      blastoise     Water      None\n",
       "9       caterpie       Bug      None\n",
       "10       metapod       Bug      None\n",
       "11    butterfree       Bug    Flying\n",
       "12        weedle       Bug    Poison\n",
       "13        kakuna       Bug    Poison\n",
       "14      beedrill       Bug    Poison\n",
       "15        pidgey    Normal    Flying\n",
       "16     pidgeotto    Normal    Flying\n",
       "17       pidgeot    Normal    Flying\n",
       "18       rattata    Normal      None\n",
       "19      raticate    Normal      None\n",
       "20       spearow    Normal    Flying\n",
       "21        fearow    Normal    Flying\n",
       "22         ekans    Poison      None\n",
       "23         arbok    Poison      None\n",
       "24       pikachu  Electric      None\n",
       "25        raichu  Electric      None\n",
       "26     sandshrew    Ground      None\n",
       "27     sandslash    Ground      None\n",
       "28     nidoran-f    Poison      None\n",
       "29      nidorina    Poison      None\n",
       "..           ...       ...       ...\n",
       "779       drampa    Normal    Dragon\n",
       "780     dhelmise     Ghost     Grass\n",
       "781     jangmo-o    Dragon      None\n",
       "782     hakamo-o    Dragon  Fighting\n",
       "783      kommo-o    Dragon  Fighting\n",
       "784    tapu-koko  Electric     Fairy\n",
       "785    tapu-lele   Psychic     Fairy\n",
       "786    tapu-bulu     Grass     Fairy\n",
       "787    tapu-fini     Water     Fairy\n",
       "788       cosmog   Psychic      None\n",
       "789      cosmoem   Psychic      None\n",
       "790     solgaleo   Psychic     Steel\n",
       "791       lunala   Psychic     Ghost\n",
       "792     nihilego      Rock    Poison\n",
       "793     buzzwole       Bug  Fighting\n",
       "794    pheromosa       Bug  Fighting\n",
       "795    xurkitree  Electric      None\n",
       "796   celesteela     Steel    Flying\n",
       "797      kartana     Grass     Steel\n",
       "798     guzzlord      Dark    Dragon\n",
       "799     necrozma   Psychic      None\n",
       "800     magearna     Steel     Fairy\n",
       "801    marshadow  Fighting     Ghost\n",
       "802      poipole    Poison      None\n",
       "803    naganadel    Poison    Dragon\n",
       "804    stakataka      Rock     Steel\n",
       "805  blacephalon      Fire     Ghost\n",
       "806      zeraora  Electric      None\n",
       "807       meltan     Steel      None\n",
       "808     melmetal     Steel      None\n",
       "\n",
       "[809 rows x 3 columns]"
      ]
     },
     "execution_count": 65,
     "metadata": {},
     "output_type": "execute_result"
    }
   ],
   "source": [
    "data"
   ]
  },
  {
   "cell_type": "code",
   "execution_count": 6,
   "metadata": {},
   "outputs": [
    {
     "name": "stdout",
     "output_type": "stream",
     "text": [
      "            Name     Type1     Type2\n",
      "0      bulbasaur     Grass    Poison\n",
      "1        ivysaur     Grass    Poison\n",
      "2       venusaur     Grass    Poison\n",
      "3     charmander      Fire      None\n",
      "4     charmeleon      Fire      None\n",
      "5      charizard      Fire    Flying\n",
      "6       squirtle     Water      None\n",
      "7      wartortle     Water      None\n",
      "8      blastoise     Water      None\n",
      "9       caterpie       Bug      None\n",
      "10       metapod       Bug      None\n",
      "11    butterfree       Bug    Flying\n",
      "12        weedle       Bug    Poison\n",
      "13        kakuna       Bug    Poison\n",
      "14      beedrill       Bug    Poison\n",
      "15        pidgey    Normal    Flying\n",
      "16     pidgeotto    Normal    Flying\n",
      "17       pidgeot    Normal    Flying\n",
      "18       rattata    Normal      None\n",
      "19      raticate    Normal      None\n",
      "20       spearow    Normal    Flying\n",
      "21        fearow    Normal    Flying\n",
      "22         ekans    Poison      None\n",
      "23         arbok    Poison      None\n",
      "24       pikachu  Electric      None\n",
      "25        raichu  Electric      None\n",
      "26     sandshrew    Ground      None\n",
      "27     sandslash    Ground      None\n",
      "28     nidoran-f    Poison      None\n",
      "29      nidorina    Poison      None\n",
      "..           ...       ...       ...\n",
      "779       drampa    Normal    Dragon\n",
      "780     dhelmise     Ghost     Grass\n",
      "781     jangmo-o    Dragon      None\n",
      "782     hakamo-o    Dragon  Fighting\n",
      "783      kommo-o    Dragon  Fighting\n",
      "784    tapu-koko  Electric     Fairy\n",
      "785    tapu-lele   Psychic     Fairy\n",
      "786    tapu-bulu     Grass     Fairy\n",
      "787    tapu-fini     Water     Fairy\n",
      "788       cosmog   Psychic      None\n",
      "789      cosmoem   Psychic      None\n",
      "790     solgaleo   Psychic     Steel\n",
      "791       lunala   Psychic     Ghost\n",
      "792     nihilego      Rock    Poison\n",
      "793     buzzwole       Bug  Fighting\n",
      "794    pheromosa       Bug  Fighting\n",
      "795    xurkitree  Electric      None\n",
      "796   celesteela     Steel    Flying\n",
      "797      kartana     Grass     Steel\n",
      "798     guzzlord      Dark    Dragon\n",
      "799     necrozma   Psychic      None\n",
      "800     magearna     Steel     Fairy\n",
      "801    marshadow  Fighting     Ghost\n",
      "802      poipole    Poison      None\n",
      "803    naganadel    Poison    Dragon\n",
      "804    stakataka      Rock     Steel\n",
      "805  blacephalon      Fire     Ghost\n",
      "806      zeraora  Electric      None\n",
      "807       meltan     Steel      None\n",
      "808     melmetal     Steel      None\n",
      "\n",
      "[809 rows x 3 columns]\n"
     ]
    }
   ],
   "source": [
    "print(data)"
   ]
  },
  {
   "cell_type": "markdown",
   "metadata": {},
   "source": [
    "##### Посмотрим лишь на начало таблицы:"
   ]
  },
  {
   "cell_type": "code",
   "execution_count": 9,
   "metadata": {
    "scrolled": true
   },
   "outputs": [
    {
     "data": {
      "text/html": [
       "<div>\n",
       "<style scoped>\n",
       "    .dataframe tbody tr th:only-of-type {\n",
       "        vertical-align: middle;\n",
       "    }\n",
       "\n",
       "    .dataframe tbody tr th {\n",
       "        vertical-align: top;\n",
       "    }\n",
       "\n",
       "    .dataframe thead th {\n",
       "        text-align: right;\n",
       "    }\n",
       "</style>\n",
       "<table border=\"1\" class=\"dataframe\">\n",
       "  <thead>\n",
       "    <tr style=\"text-align: right;\">\n",
       "      <th></th>\n",
       "      <th>Name</th>\n",
       "      <th>Type1</th>\n",
       "      <th>Type2</th>\n",
       "    </tr>\n",
       "  </thead>\n",
       "  <tbody>\n",
       "    <tr>\n",
       "      <th>0</th>\n",
       "      <td>bulbasaur</td>\n",
       "      <td>Grass</td>\n",
       "      <td>Poison</td>\n",
       "    </tr>\n",
       "    <tr>\n",
       "      <th>1</th>\n",
       "      <td>ivysaur</td>\n",
       "      <td>Grass</td>\n",
       "      <td>Poison</td>\n",
       "    </tr>\n",
       "    <tr>\n",
       "      <th>2</th>\n",
       "      <td>venusaur</td>\n",
       "      <td>Grass</td>\n",
       "      <td>Poison</td>\n",
       "    </tr>\n",
       "    <tr>\n",
       "      <th>3</th>\n",
       "      <td>charmander</td>\n",
       "      <td>Fire</td>\n",
       "      <td>None</td>\n",
       "    </tr>\n",
       "    <tr>\n",
       "      <th>4</th>\n",
       "      <td>charmeleon</td>\n",
       "      <td>Fire</td>\n",
       "      <td>None</td>\n",
       "    </tr>\n",
       "  </tbody>\n",
       "</table>\n",
       "</div>"
      ],
      "text/plain": [
       "         Name  Type1   Type2\n",
       "0   bulbasaur  Grass  Poison\n",
       "1     ivysaur  Grass  Poison\n",
       "2    venusaur  Grass  Poison\n",
       "3  charmander   Fire    None\n",
       "4  charmeleon   Fire    None"
      ]
     },
     "execution_count": 9,
     "metadata": {},
     "output_type": "execute_result"
    }
   ],
   "source": [
    "data.head()"
   ]
  },
  {
   "cell_type": "markdown",
   "metadata": {},
   "source": [
    "##### Смотрим на конец таблицы:"
   ]
  },
  {
   "cell_type": "code",
   "execution_count": 10,
   "metadata": {},
   "outputs": [
    {
     "data": {
      "text/html": [
       "<div>\n",
       "<style scoped>\n",
       "    .dataframe tbody tr th:only-of-type {\n",
       "        vertical-align: middle;\n",
       "    }\n",
       "\n",
       "    .dataframe tbody tr th {\n",
       "        vertical-align: top;\n",
       "    }\n",
       "\n",
       "    .dataframe thead th {\n",
       "        text-align: right;\n",
       "    }\n",
       "</style>\n",
       "<table border=\"1\" class=\"dataframe\">\n",
       "  <thead>\n",
       "    <tr style=\"text-align: right;\">\n",
       "      <th></th>\n",
       "      <th>Name</th>\n",
       "      <th>Type1</th>\n",
       "      <th>Type2</th>\n",
       "    </tr>\n",
       "  </thead>\n",
       "  <tbody>\n",
       "    <tr>\n",
       "      <th>804</th>\n",
       "      <td>stakataka</td>\n",
       "      <td>Rock</td>\n",
       "      <td>Steel</td>\n",
       "    </tr>\n",
       "    <tr>\n",
       "      <th>805</th>\n",
       "      <td>blacephalon</td>\n",
       "      <td>Fire</td>\n",
       "      <td>Ghost</td>\n",
       "    </tr>\n",
       "    <tr>\n",
       "      <th>806</th>\n",
       "      <td>zeraora</td>\n",
       "      <td>Electric</td>\n",
       "      <td>None</td>\n",
       "    </tr>\n",
       "    <tr>\n",
       "      <th>807</th>\n",
       "      <td>meltan</td>\n",
       "      <td>Steel</td>\n",
       "      <td>None</td>\n",
       "    </tr>\n",
       "    <tr>\n",
       "      <th>808</th>\n",
       "      <td>melmetal</td>\n",
       "      <td>Steel</td>\n",
       "      <td>None</td>\n",
       "    </tr>\n",
       "  </tbody>\n",
       "</table>\n",
       "</div>"
      ],
      "text/plain": [
       "            Name     Type1  Type2\n",
       "804    stakataka      Rock  Steel\n",
       "805  blacephalon      Fire  Ghost\n",
       "806      zeraora  Electric   None\n",
       "807       meltan     Steel   None\n",
       "808     melmetal     Steel   None"
      ]
     },
     "execution_count": 10,
     "metadata": {},
     "output_type": "execute_result"
    }
   ],
   "source": [
    "data.tail()"
   ]
  },
  {
   "cell_type": "markdown",
   "metadata": {},
   "source": [
    "## Описание классов и признаков\n",
    "\n"
   ]
  },
  {
   "cell_type": "markdown",
   "metadata": {},
   "source": [
    "##### Смотрим на размерность датасета и изучаем названия столбцов "
   ]
  },
  {
   "cell_type": "code",
   "execution_count": 11,
   "metadata": {},
   "outputs": [
    {
     "name": "stdout",
     "output_type": "stream",
     "text": [
      "(809, 3)\n",
      "Index(['Name', 'Type1', 'Type2'], dtype='object')\n"
     ]
    }
   ],
   "source": [
    "print(data.shape)\n",
    "print(data.columns)"
   ]
  },
  {
   "cell_type": "markdown",
   "metadata": {},
   "source": [
    "##### Смотрим на диапазоны индексов"
   ]
  },
  {
   "cell_type": "code",
   "execution_count": 12,
   "metadata": {},
   "outputs": [
    {
     "data": {
      "text/plain": [
       "RangeIndex(start=0, stop=809, step=1)"
      ]
     },
     "execution_count": 12,
     "metadata": {},
     "output_type": "execute_result"
    }
   ],
   "source": [
    "data.index"
   ]
  },
  {
   "cell_type": "markdown",
   "metadata": {},
   "source": [
    "##### \"Вытаскиваем\" из таблицы конкретные элементы:"
   ]
  },
  {
   "cell_type": "code",
   "execution_count": 15,
   "metadata": {
    "scrolled": true
   },
   "outputs": [
    {
     "data": {
      "text/plain": [
       "'Flying'"
      ]
     },
     "execution_count": 15,
     "metadata": {},
     "output_type": "execute_result"
    }
   ],
   "source": [
    "data.at[5, 'Type2']"
   ]
  },
  {
   "cell_type": "markdown",
   "metadata": {},
   "source": [
    "##### Смотрим на конкретный столбец:"
   ]
  },
  {
   "cell_type": "code",
   "execution_count": 17,
   "metadata": {},
   "outputs": [
    {
     "data": {
      "text/plain": [
       "0        Poison\n",
       "1        Poison\n",
       "2        Poison\n",
       "3          None\n",
       "4          None\n",
       "5        Flying\n",
       "6          None\n",
       "7          None\n",
       "8          None\n",
       "9          None\n",
       "10         None\n",
       "11       Flying\n",
       "12       Poison\n",
       "13       Poison\n",
       "14       Poison\n",
       "15       Flying\n",
       "16       Flying\n",
       "17       Flying\n",
       "18         None\n",
       "19         None\n",
       "20       Flying\n",
       "21       Flying\n",
       "22         None\n",
       "23         None\n",
       "24         None\n",
       "25         None\n",
       "26         None\n",
       "27         None\n",
       "28         None\n",
       "29         None\n",
       "         ...   \n",
       "779      Dragon\n",
       "780       Grass\n",
       "781        None\n",
       "782    Fighting\n",
       "783    Fighting\n",
       "784       Fairy\n",
       "785       Fairy\n",
       "786       Fairy\n",
       "787       Fairy\n",
       "788        None\n",
       "789        None\n",
       "790       Steel\n",
       "791       Ghost\n",
       "792      Poison\n",
       "793    Fighting\n",
       "794    Fighting\n",
       "795        None\n",
       "796      Flying\n",
       "797       Steel\n",
       "798      Dragon\n",
       "799        None\n",
       "800       Fairy\n",
       "801       Ghost\n",
       "802        None\n",
       "803      Dragon\n",
       "804       Steel\n",
       "805       Ghost\n",
       "806        None\n",
       "807        None\n",
       "808        None\n",
       "Name: Type2, Length: 809, dtype: object"
      ]
     },
     "execution_count": 17,
     "metadata": {},
     "output_type": "execute_result"
    }
   ],
   "source": [
    "data['Type2']"
   ]
  },
  {
   "cell_type": "markdown",
   "metadata": {},
   "source": [
    "##### Обращение к элементам таблицы:"
   ]
  },
  {
   "cell_type": "code",
   "execution_count": 20,
   "metadata": {},
   "outputs": [
    {
     "data": {
      "text/plain": [
       "'Fire'"
      ]
     },
     "execution_count": 20,
     "metadata": {},
     "output_type": "execute_result"
    }
   ],
   "source": [
    "data['Type1'][5]"
   ]
  },
  {
   "cell_type": "markdown",
   "metadata": {},
   "source": [
    "##### Смотрим на различные типы элементов:"
   ]
  },
  {
   "cell_type": "code",
   "execution_count": 21,
   "metadata": {},
   "outputs": [
    {
     "data": {
      "text/plain": [
       "'object'"
      ]
     },
     "execution_count": 21,
     "metadata": {},
     "output_type": "execute_result"
    }
   ],
   "source": [
    "data['Name'].dtype.name"
   ]
  },
  {
   "cell_type": "code",
   "execution_count": 24,
   "metadata": {},
   "outputs": [
    {
     "data": {
      "text/plain": [
       "str"
      ]
     },
     "execution_count": 24,
     "metadata": {},
     "output_type": "execute_result"
    }
   ],
   "source": [
    "type(data['Name'][3])"
   ]
  },
  {
   "cell_type": "code",
   "execution_count": 26,
   "metadata": {},
   "outputs": [
    {
     "data": {
      "text/plain": [
       "pandas.core.series.Series"
      ]
     },
     "execution_count": 26,
     "metadata": {},
     "output_type": "execute_result"
    }
   ],
   "source": [
    "type(data['Name'])"
   ]
  },
  {
   "cell_type": "markdown",
   "metadata": {},
   "source": [
    "##### Берем кусок таблицы и печатаем ее начало:"
   ]
  },
  {
   "cell_type": "code",
   "execution_count": 27,
   "metadata": {},
   "outputs": [
    {
     "data": {
      "text/html": [
       "<div>\n",
       "<style scoped>\n",
       "    .dataframe tbody tr th:only-of-type {\n",
       "        vertical-align: middle;\n",
       "    }\n",
       "\n",
       "    .dataframe tbody tr th {\n",
       "        vertical-align: top;\n",
       "    }\n",
       "\n",
       "    .dataframe thead th {\n",
       "        text-align: right;\n",
       "    }\n",
       "</style>\n",
       "<table border=\"1\" class=\"dataframe\">\n",
       "  <thead>\n",
       "    <tr style=\"text-align: right;\">\n",
       "      <th></th>\n",
       "      <th>Type1</th>\n",
       "      <th>Type2</th>\n",
       "    </tr>\n",
       "  </thead>\n",
       "  <tbody>\n",
       "    <tr>\n",
       "      <th>0</th>\n",
       "      <td>Grass</td>\n",
       "      <td>Poison</td>\n",
       "    </tr>\n",
       "    <tr>\n",
       "      <th>1</th>\n",
       "      <td>Grass</td>\n",
       "      <td>Poison</td>\n",
       "    </tr>\n",
       "    <tr>\n",
       "      <th>2</th>\n",
       "      <td>Grass</td>\n",
       "      <td>Poison</td>\n",
       "    </tr>\n",
       "    <tr>\n",
       "      <th>3</th>\n",
       "      <td>Fire</td>\n",
       "      <td>None</td>\n",
       "    </tr>\n",
       "    <tr>\n",
       "      <th>4</th>\n",
       "      <td>Fire</td>\n",
       "      <td>None</td>\n",
       "    </tr>\n",
       "  </tbody>\n",
       "</table>\n",
       "</div>"
      ],
      "text/plain": [
       "   Type1   Type2\n",
       "0  Grass  Poison\n",
       "1  Grass  Poison\n",
       "2  Grass  Poison\n",
       "3   Fire    None\n",
       "4   Fire    None"
      ]
     },
     "execution_count": 27,
     "metadata": {},
     "output_type": "execute_result"
    }
   ],
   "source": [
    "data[['Type1', 'Type2']].head()"
   ]
  },
  {
   "cell_type": "markdown",
   "metadata": {},
   "source": [
    "##### Смотрим основные статистические характеристики по каждому числовому признаку:"
   ]
  },
  {
   "cell_type": "code",
   "execution_count": 28,
   "metadata": {},
   "outputs": [
    {
     "data": {
      "text/html": [
       "<div>\n",
       "<style scoped>\n",
       "    .dataframe tbody tr th:only-of-type {\n",
       "        vertical-align: middle;\n",
       "    }\n",
       "\n",
       "    .dataframe tbody tr th {\n",
       "        vertical-align: top;\n",
       "    }\n",
       "\n",
       "    .dataframe thead th {\n",
       "        text-align: right;\n",
       "    }\n",
       "</style>\n",
       "<table border=\"1\" class=\"dataframe\">\n",
       "  <thead>\n",
       "    <tr style=\"text-align: right;\">\n",
       "      <th></th>\n",
       "      <th>Name</th>\n",
       "      <th>Type1</th>\n",
       "      <th>Type2</th>\n",
       "    </tr>\n",
       "  </thead>\n",
       "  <tbody>\n",
       "    <tr>\n",
       "      <th>count</th>\n",
       "      <td>809</td>\n",
       "      <td>809</td>\n",
       "      <td>405</td>\n",
       "    </tr>\n",
       "    <tr>\n",
       "      <th>unique</th>\n",
       "      <td>809</td>\n",
       "      <td>18</td>\n",
       "      <td>18</td>\n",
       "    </tr>\n",
       "    <tr>\n",
       "      <th>top</th>\n",
       "      <td>pidgeotto</td>\n",
       "      <td>Water</td>\n",
       "      <td>Flying</td>\n",
       "    </tr>\n",
       "    <tr>\n",
       "      <th>freq</th>\n",
       "      <td>1</td>\n",
       "      <td>114</td>\n",
       "      <td>95</td>\n",
       "    </tr>\n",
       "  </tbody>\n",
       "</table>\n",
       "</div>"
      ],
      "text/plain": [
       "             Name  Type1   Type2\n",
       "count         809    809     405\n",
       "unique        809     18      18\n",
       "top     pidgeotto  Water  Flying\n",
       "freq            1    114      95"
      ]
     },
     "execution_count": 28,
     "metadata": {},
     "output_type": "execute_result"
    }
   ],
   "source": [
    "data.describe()"
   ]
  },
  {
   "cell_type": "markdown",
   "metadata": {},
   "source": [
    "##### Посмотреть на зависимость признаков друг от дурга  и на на попарную корреляцию признаков не выйдет так как все значения являются строками."
   ]
  },
  {
   "cell_type": "code",
   "execution_count": 29,
   "metadata": {},
   "outputs": [
    {
     "data": {
      "text/html": [
       "<div>\n",
       "<style scoped>\n",
       "    .dataframe tbody tr th:only-of-type {\n",
       "        vertical-align: middle;\n",
       "    }\n",
       "\n",
       "    .dataframe tbody tr th {\n",
       "        vertical-align: top;\n",
       "    }\n",
       "\n",
       "    .dataframe thead th {\n",
       "        text-align: right;\n",
       "    }\n",
       "</style>\n",
       "<table border=\"1\" class=\"dataframe\">\n",
       "  <thead>\n",
       "    <tr style=\"text-align: right;\">\n",
       "      <th></th>\n",
       "    </tr>\n",
       "  </thead>\n",
       "  <tbody>\n",
       "  </tbody>\n",
       "</table>\n",
       "</div>"
      ],
      "text/plain": [
       "Empty DataFrame\n",
       "Columns: []\n",
       "Index: []"
      ]
     },
     "execution_count": 29,
     "metadata": {},
     "output_type": "execute_result"
    }
   ],
   "source": [
    "data.corr()"
   ]
  },
  {
   "cell_type": "markdown",
   "metadata": {},
   "source": [
    "##### проверка на принадлежность элементов столбца к заданному классу:"
   ]
  },
  {
   "cell_type": "code",
   "execution_count": 31,
   "metadata": {},
   "outputs": [
    {
     "data": {
      "text/plain": [
       "0      False\n",
       "1      False\n",
       "2      False\n",
       "3      False\n",
       "4      False\n",
       "5       True\n",
       "6      False\n",
       "7      False\n",
       "8      False\n",
       "9      False\n",
       "10     False\n",
       "11      True\n",
       "12     False\n",
       "13     False\n",
       "14     False\n",
       "15      True\n",
       "16      True\n",
       "17      True\n",
       "18     False\n",
       "19     False\n",
       "20      True\n",
       "21      True\n",
       "22     False\n",
       "23     False\n",
       "24     False\n",
       "25     False\n",
       "26     False\n",
       "27     False\n",
       "28     False\n",
       "29     False\n",
       "       ...  \n",
       "779    False\n",
       "780    False\n",
       "781    False\n",
       "782    False\n",
       "783    False\n",
       "784    False\n",
       "785    False\n",
       "786    False\n",
       "787    False\n",
       "788    False\n",
       "789    False\n",
       "790    False\n",
       "791    False\n",
       "792    False\n",
       "793    False\n",
       "794    False\n",
       "795    False\n",
       "796     True\n",
       "797    False\n",
       "798    False\n",
       "799    False\n",
       "800    False\n",
       "801    False\n",
       "802    False\n",
       "803    False\n",
       "804    False\n",
       "805    False\n",
       "806    False\n",
       "807    False\n",
       "808    False\n",
       "Name: Type2, Length: 809, dtype: bool"
      ]
     },
     "execution_count": 31,
     "metadata": {},
     "output_type": "execute_result"
    }
   ],
   "source": [
    "data['Type2'] == 'Flying'"
   ]
  },
  {
   "cell_type": "markdown",
   "metadata": {},
   "source": [
    "##### Краткая характеристика номинальных признаков:"
   ]
  },
  {
   "cell_type": "code",
   "execution_count": 32,
   "metadata": {},
   "outputs": [
    {
     "data": {
      "text/html": [
       "<div>\n",
       "<style scoped>\n",
       "    .dataframe tbody tr th:only-of-type {\n",
       "        vertical-align: middle;\n",
       "    }\n",
       "\n",
       "    .dataframe tbody tr th {\n",
       "        vertical-align: top;\n",
       "    }\n",
       "\n",
       "    .dataframe thead th {\n",
       "        text-align: right;\n",
       "    }\n",
       "</style>\n",
       "<table border=\"1\" class=\"dataframe\">\n",
       "  <thead>\n",
       "    <tr style=\"text-align: right;\">\n",
       "      <th></th>\n",
       "      <th>Name</th>\n",
       "      <th>Type1</th>\n",
       "      <th>Type2</th>\n",
       "    </tr>\n",
       "  </thead>\n",
       "  <tbody>\n",
       "    <tr>\n",
       "      <th>count</th>\n",
       "      <td>809</td>\n",
       "      <td>809</td>\n",
       "      <td>405</td>\n",
       "    </tr>\n",
       "    <tr>\n",
       "      <th>unique</th>\n",
       "      <td>809</td>\n",
       "      <td>18</td>\n",
       "      <td>18</td>\n",
       "    </tr>\n",
       "    <tr>\n",
       "      <th>top</th>\n",
       "      <td>pidgeotto</td>\n",
       "      <td>Water</td>\n",
       "      <td>Flying</td>\n",
       "    </tr>\n",
       "    <tr>\n",
       "      <th>freq</th>\n",
       "      <td>1</td>\n",
       "      <td>114</td>\n",
       "      <td>95</td>\n",
       "    </tr>\n",
       "  </tbody>\n",
       "</table>\n",
       "</div>"
      ],
      "text/plain": [
       "             Name  Type1   Type2\n",
       "count         809    809     405\n",
       "unique        809     18      18\n",
       "top     pidgeotto  Water  Flying\n",
       "freq            1    114      95"
      ]
     },
     "execution_count": 32,
     "metadata": {},
     "output_type": "execute_result"
    }
   ],
   "source": [
    "data.describe(include = ['object'])"
   ]
  },
  {
   "cell_type": "markdown",
   "metadata": {},
   "source": [
    "##### Описание всех признаков вместе:"
   ]
  },
  {
   "cell_type": "code",
   "execution_count": 33,
   "metadata": {},
   "outputs": [
    {
     "data": {
      "text/html": [
       "<div>\n",
       "<style scoped>\n",
       "    .dataframe tbody tr th:only-of-type {\n",
       "        vertical-align: middle;\n",
       "    }\n",
       "\n",
       "    .dataframe tbody tr th {\n",
       "        vertical-align: top;\n",
       "    }\n",
       "\n",
       "    .dataframe thead th {\n",
       "        text-align: right;\n",
       "    }\n",
       "</style>\n",
       "<table border=\"1\" class=\"dataframe\">\n",
       "  <thead>\n",
       "    <tr style=\"text-align: right;\">\n",
       "      <th></th>\n",
       "      <th>Name</th>\n",
       "      <th>Type1</th>\n",
       "      <th>Type2</th>\n",
       "    </tr>\n",
       "  </thead>\n",
       "  <tbody>\n",
       "    <tr>\n",
       "      <th>count</th>\n",
       "      <td>809</td>\n",
       "      <td>809</td>\n",
       "      <td>405</td>\n",
       "    </tr>\n",
       "    <tr>\n",
       "      <th>unique</th>\n",
       "      <td>809</td>\n",
       "      <td>18</td>\n",
       "      <td>18</td>\n",
       "    </tr>\n",
       "    <tr>\n",
       "      <th>top</th>\n",
       "      <td>pidgeotto</td>\n",
       "      <td>Water</td>\n",
       "      <td>Flying</td>\n",
       "    </tr>\n",
       "    <tr>\n",
       "      <th>freq</th>\n",
       "      <td>1</td>\n",
       "      <td>114</td>\n",
       "      <td>95</td>\n",
       "    </tr>\n",
       "  </tbody>\n",
       "</table>\n",
       "</div>"
      ],
      "text/plain": [
       "             Name  Type1   Type2\n",
       "count         809    809     405\n",
       "unique        809     18      18\n",
       "top     pidgeotto  Water  Flying\n",
       "freq            1    114      95"
      ]
     },
     "execution_count": 33,
     "metadata": {},
     "output_type": "execute_result"
    }
   ],
   "source": [
    "data.describe(include = 'all')"
   ]
  },
  {
   "cell_type": "markdown",
   "metadata": {},
   "source": [
    "##### Список всех возможных вариантов класса:"
   ]
  },
  {
   "cell_type": "code",
   "execution_count": 34,
   "metadata": {},
   "outputs": [
    {
     "data": {
      "text/plain": [
       "array(['Grass', 'Fire', 'Water', 'Bug', 'Normal', 'Poison', 'Electric',\n",
       "       'Ground', 'Fairy', 'Fighting', 'Psychic', 'Rock', 'Ghost', 'Ice',\n",
       "       'Dragon', 'Dark', 'Steel', 'Flying'], dtype=object)"
      ]
     },
     "execution_count": 34,
     "metadata": {},
     "output_type": "execute_result"
    }
   ],
   "source": [
    "data['Type1'].unique()"
   ]
  },
  {
   "cell_type": "code",
   "execution_count": 36,
   "metadata": {},
   "outputs": [
    {
     "data": {
      "text/plain": [
       "array(['Poison', None, 'Flying', 'Ground', 'Fairy', 'Grass', 'Fighting',\n",
       "       'Psychic', 'Steel', 'Ice', 'Rock', 'Water', 'Electric', 'Fire',\n",
       "       'Dragon', 'Dark', 'Ghost', 'Bug', 'Normal'], dtype=object)"
      ]
     },
     "execution_count": 36,
     "metadata": {},
     "output_type": "execute_result"
    }
   ],
   "source": [
    "data['Type2'].unique()"
   ]
  },
  {
   "cell_type": "markdown",
   "metadata": {},
   "source": [
    "##### `Name` у первых представителей класса `Type1` :"
   ]
  },
  {
   "cell_type": "code",
   "execution_count": 37,
   "metadata": {},
   "outputs": [
    {
     "name": "stdout",
     "output_type": "stream",
     "text": [
      "Grass bulbasaur\n",
      "Fire charmander\n",
      "Water squirtle\n",
      "Bug caterpie\n",
      "Normal pidgey\n",
      "Poison ekans\n",
      "Electric pikachu\n",
      "Ground sandshrew\n",
      "Fairy clefairy\n",
      "Fighting mankey\n",
      "Psychic abra\n",
      "Rock geodude\n",
      "Ghost gastly\n",
      "Ice jynx\n",
      "Dragon dratini\n",
      "Dark umbreon\n",
      "Steel steelix\n",
      "Flying tornadus-incarnate\n"
     ]
    }
   ],
   "source": [
    "for name in data['Type1'].unique():\n",
    "    print(name, data['Name'][data['Type1'] == name].iloc[0])"
   ]
  },
  {
   "cell_type": "markdown",
   "metadata": {},
   "source": [
    "# Готовим данные"
   ]
  },
  {
   "cell_type": "markdown",
   "metadata": {},
   "source": [
    "##### Смотрим типы признаков и разбиваем их на количественные и номинальные"
   ]
  },
  {
   "cell_type": "code",
   "execution_count": 38,
   "metadata": {},
   "outputs": [
    {
     "data": {
      "text/plain": [
       "'object'"
      ]
     },
     "execution_count": 38,
     "metadata": {},
     "output_type": "execute_result"
    }
   ],
   "source": [
    "data['Name'].dtype.name"
   ]
  },
  {
   "cell_type": "code",
   "execution_count": 40,
   "metadata": {},
   "outputs": [
    {
     "data": {
      "text/plain": [
       "'object'"
      ]
     },
     "execution_count": 40,
     "metadata": {},
     "output_type": "execute_result"
    }
   ],
   "source": [
    "data['Type1'].dtype.name"
   ]
  },
  {
   "cell_type": "code",
   "execution_count": 42,
   "metadata": {},
   "outputs": [
    {
     "data": {
      "text/plain": [
       "'object'"
      ]
     },
     "execution_count": 42,
     "metadata": {},
     "output_type": "execute_result"
    }
   ],
   "source": [
    "data['Type2'].dtype.name"
   ]
  },
  {
   "cell_type": "markdown",
   "metadata": {},
   "source": [
    "##### Получаем, что все классы являются номинальными признаками. Числовые признаки отсутсвуют."
   ]
  },
  {
   "cell_type": "code",
   "execution_count": 43,
   "metadata": {},
   "outputs": [
    {
     "name": "stdout",
     "output_type": "stream",
     "text": [
      "['Name', 'Type1', 'Type2']\n",
      "[]\n"
     ]
    }
   ],
   "source": [
    "categorical_columns = [c for c in data.columns if data[c].dtype.name == 'object']\n",
    "numerical_columns   = [c for c in data.columns if data[c].dtype.name != 'object']\n",
    "print(categorical_columns)\n",
    "print(numerical_columns)"
   ]
  },
  {
   "cell_type": "markdown",
   "metadata": {},
   "source": [
    "##### Возможные значения класса:"
   ]
  },
  {
   "cell_type": "code",
   "execution_count": 44,
   "metadata": {},
   "outputs": [
    {
     "name": "stdout",
     "output_type": "stream",
     "text": [
      "Name ['bulbasaur' 'ivysaur' 'venusaur' 'charmander' 'charmeleon' 'charizard'\n",
      " 'squirtle' 'wartortle' 'blastoise' 'caterpie' 'metapod' 'butterfree'\n",
      " 'weedle' 'kakuna' 'beedrill' 'pidgey' 'pidgeotto' 'pidgeot' 'rattata'\n",
      " 'raticate' 'spearow' 'fearow' 'ekans' 'arbok' 'pikachu' 'raichu'\n",
      " 'sandshrew' 'sandslash' 'nidoran-f' 'nidorina' 'nidoqueen' 'nidoran-m'\n",
      " 'nidorino' 'nidoking' 'clefairy' 'clefable' 'vulpix' 'ninetales'\n",
      " 'jigglypuff' 'wigglytuff' 'zubat' 'golbat' 'oddish' 'gloom' 'vileplume'\n",
      " 'paras' 'parasect' 'venonat' 'venomoth' 'diglett' 'dugtrio' 'meowth'\n",
      " 'persian' 'psyduck' 'golduck' 'mankey' 'primeape' 'growlithe' 'arcanine'\n",
      " 'poliwag' 'poliwhirl' 'poliwrath' 'abra' 'kadabra' 'alakazam' 'machop'\n",
      " 'machoke' 'machamp' 'bellsprout' 'weepinbell' 'victreebel' 'tentacool'\n",
      " 'tentacruel' 'geodude' 'graveler' 'golem' 'ponyta' 'rapidash' 'slowpoke'\n",
      " 'slowbro' 'magnemite' 'magneton' 'farfetchd' 'doduo' 'dodrio' 'seel'\n",
      " 'dewgong' 'grimer' 'muk' 'shellder' 'cloyster' 'gastly' 'haunter'\n",
      " 'gengar' 'onix' 'drowzee' 'hypno' 'krabby' 'kingler' 'voltorb'\n",
      " 'electrode' 'exeggcute' 'exeggutor' 'cubone' 'marowak' 'hitmonlee'\n",
      " 'hitmonchan' 'lickitung' 'koffing' 'weezing' 'rhyhorn' 'rhydon' 'chansey'\n",
      " 'tangela' 'kangaskhan' 'horsea' 'seadra' 'goldeen' 'seaking' 'staryu'\n",
      " 'starmie' 'mr-mime' 'scyther' 'jynx' 'electabuzz' 'magmar' 'pinsir'\n",
      " 'tauros' 'magikarp' 'gyarados' 'lapras' 'ditto' 'eevee' 'vaporeon'\n",
      " 'jolteon' 'flareon' 'porygon' 'omanyte' 'omastar' 'kabuto' 'kabutops'\n",
      " 'aerodactyl' 'snorlax' 'articuno' 'zapdos' 'moltres' 'dratini'\n",
      " 'dragonair' 'dragonite' 'mewtwo' 'mew' 'chikorita' 'bayleef' 'meganium'\n",
      " 'cyndaquil' 'quilava' 'typhlosion' 'totodile' 'croconaw' 'feraligatr'\n",
      " 'sentret' 'furret' 'hoothoot' 'noctowl' 'ledyba' 'ledian' 'spinarak'\n",
      " 'ariados' 'crobat' 'chinchou' 'lanturn' 'pichu' 'cleffa' 'igglybuff'\n",
      " 'togepi' 'togetic' 'natu' 'xatu' 'mareep' 'flaaffy' 'ampharos'\n",
      " 'bellossom' 'marill' 'azumarill' 'sudowoodo' 'politoed' 'hoppip'\n",
      " 'skiploom' 'jumpluff' 'aipom' 'sunkern' 'sunflora' 'yanma' 'wooper'\n",
      " 'quagsire' 'espeon' 'umbreon' 'murkrow' 'slowking' 'misdreavus' 'unown'\n",
      " 'wobbuffet' 'girafarig' 'pineco' 'forretress' 'dunsparce' 'gligar'\n",
      " 'steelix' 'snubbull' 'granbull' 'qwilfish' 'scizor' 'shuckle' 'heracross'\n",
      " 'sneasel' 'teddiursa' 'ursaring' 'slugma' 'magcargo' 'swinub' 'piloswine'\n",
      " 'corsola' 'remoraid' 'octillery' 'delibird' 'mantine' 'skarmory'\n",
      " 'houndour' 'houndoom' 'kingdra' 'phanpy' 'donphan' 'porygon2' 'stantler'\n",
      " 'smeargle' 'tyrogue' 'hitmontop' 'smoochum' 'elekid' 'magby' 'miltank'\n",
      " 'blissey' 'raikou' 'entei' 'suicune' 'larvitar' 'pupitar' 'tyranitar'\n",
      " 'lugia' 'ho-oh' 'celebi' 'treecko' 'grovyle' 'sceptile' 'torchic'\n",
      " 'combusken' 'blaziken' 'mudkip' 'marshtomp' 'swampert' 'poochyena'\n",
      " 'mightyena' 'zigzagoon' 'linoone' 'wurmple' 'silcoon' 'beautifly'\n",
      " 'cascoon' 'dustox' 'lotad' 'lombre' 'ludicolo' 'seedot' 'nuzleaf'\n",
      " 'shiftry' 'taillow' 'swellow' 'wingull' 'pelipper' 'ralts' 'kirlia'\n",
      " 'gardevoir' 'surskit' 'masquerain' 'shroomish' 'breloom' 'slakoth'\n",
      " 'vigoroth' 'slaking' 'nincada' 'ninjask' 'shedinja' 'whismur' 'loudred'\n",
      " 'exploud' 'makuhita' 'hariyama' 'azurill' 'nosepass' 'skitty' 'delcatty'\n",
      " 'sableye' 'mawile' 'aron' 'lairon' 'aggron' 'meditite' 'medicham'\n",
      " 'electrike' 'manectric' 'plusle' 'minun' 'volbeat' 'illumise' 'roselia'\n",
      " 'gulpin' 'swalot' 'carvanha' 'sharpedo' 'wailmer' 'wailord' 'numel'\n",
      " 'camerupt' 'torkoal' 'spoink' 'grumpig' 'spinda' 'trapinch' 'vibrava'\n",
      " 'flygon' 'cacnea' 'cacturne' 'swablu' 'altaria' 'zangoose' 'seviper'\n",
      " 'lunatone' 'solrock' 'barboach' 'whiscash' 'corphish' 'crawdaunt'\n",
      " 'baltoy' 'claydol' 'lileep' 'cradily' 'anorith' 'armaldo' 'feebas'\n",
      " 'milotic' 'castform' 'kecleon' 'shuppet' 'banette' 'duskull' 'dusclops'\n",
      " 'tropius' 'chimecho' 'absol' 'wynaut' 'snorunt' 'glalie' 'spheal'\n",
      " 'sealeo' 'walrein' 'clamperl' 'huntail' 'gorebyss' 'relicanth' 'luvdisc'\n",
      " 'bagon' 'shelgon' 'salamence' 'beldum' 'metang' 'metagross' 'regirock'\n",
      " 'regice' 'registeel' 'latias' 'latios' 'kyogre' 'groudon' 'rayquaza'\n",
      " 'jirachi' 'deoxys-normal' 'turtwig' 'grotle' 'torterra' 'chimchar'\n",
      " 'monferno' 'infernape' 'piplup' 'prinplup' 'empoleon' 'starly' 'staravia'\n",
      " 'staraptor' 'bidoof' 'bibarel' 'kricketot' 'kricketune' 'shinx' 'luxio'\n",
      " 'luxray' 'budew' 'roserade' 'cranidos' 'rampardos' 'shieldon' 'bastiodon'\n",
      " 'burmy' 'wormadam-plant' 'mothim' 'combee' 'vespiquen' 'pachirisu'\n",
      " 'buizel' 'floatzel' 'cherubi' 'cherrim' 'shellos' 'gastrodon' 'ambipom'\n",
      " 'drifloon' 'drifblim' 'buneary' 'lopunny' 'mismagius' 'honchkrow'\n",
      " 'glameow' 'purugly' 'chingling' 'stunky' 'skuntank' 'bronzor' 'bronzong'\n",
      " 'bonsly' 'mime-jr' 'happiny' 'chatot' 'spiritomb' 'gible' 'gabite'\n",
      " 'garchomp' 'munchlax' 'riolu' 'lucario' 'hippopotas' 'hippowdon'\n",
      " 'skorupi' 'drapion' 'croagunk' 'toxicroak' 'carnivine' 'finneon'\n",
      " 'lumineon' 'mantyke' 'snover' 'abomasnow' 'weavile' 'magnezone'\n",
      " 'lickilicky' 'rhyperior' 'tangrowth' 'electivire' 'magmortar' 'togekiss'\n",
      " 'yanmega' 'leafeon' 'glaceon' 'gliscor' 'mamoswine' 'porygon-z' 'gallade'\n",
      " 'probopass' 'dusknoir' 'froslass' 'rotom' 'uxie' 'mesprit' 'azelf'\n",
      " 'dialga' 'palkia' 'heatran' 'regigigas' 'giratina-altered' 'cresselia'\n",
      " 'phione' 'manaphy' 'darkrai' 'shaymin-land' 'arceus' 'victini' 'snivy'\n",
      " 'servine' 'serperior' 'tepig' 'pignite' 'emboar' 'oshawott' 'dewott'\n",
      " 'samurott' 'patrat' 'watchog' 'lillipup' 'herdier' 'stoutland' 'purrloin'\n",
      " 'liepard' 'pansage' 'simisage' 'pansear' 'simisear' 'panpour' 'simipour'\n",
      " 'munna' 'musharna' 'pidove' 'tranquill' 'unfezant' 'blitzle' 'zebstrika'\n",
      " 'roggenrola' 'boldore' 'gigalith' 'woobat' 'swoobat' 'drilbur'\n",
      " 'excadrill' 'audino' 'timburr' 'gurdurr' 'conkeldurr' 'tympole'\n",
      " 'palpitoad' 'seismitoad' 'throh' 'sawk' 'sewaddle' 'swadloon' 'leavanny'\n",
      " 'venipede' 'whirlipede' 'scolipede' 'cottonee' 'whimsicott' 'petilil'\n",
      " 'lilligant' 'basculin-red-striped' 'sandile' 'krokorok' 'krookodile'\n",
      " 'darumaka' 'darmanitan-standard' 'maractus' 'dwebble' 'crustle' 'scraggy'\n",
      " 'scrafty' 'sigilyph' 'yamask' 'cofagrigus' 'tirtouga' 'carracosta'\n",
      " 'archen' 'archeops' 'trubbish' 'garbodor' 'zorua' 'zoroark' 'minccino'\n",
      " 'cinccino' 'gothita' 'gothorita' 'gothitelle' 'solosis' 'duosion'\n",
      " 'reuniclus' 'ducklett' 'swanna' 'vanillite' 'vanillish' 'vanilluxe'\n",
      " 'deerling' 'sawsbuck' 'emolga' 'karrablast' 'escavalier' 'foongus'\n",
      " 'amoonguss' 'frillish' 'jellicent' 'alomomola' 'joltik' 'galvantula'\n",
      " 'ferroseed' 'ferrothorn' 'klink' 'klang' 'klinklang' 'tynamo' 'eelektrik'\n",
      " 'eelektross' 'elgyem' 'beheeyem' 'litwick' 'lampent' 'chandelure' 'axew'\n",
      " 'fraxure' 'haxorus' 'cubchoo' 'beartic' 'cryogonal' 'shelmet' 'accelgor'\n",
      " 'stunfisk' 'mienfoo' 'mienshao' 'druddigon' 'golett' 'golurk' 'pawniard'\n",
      " 'bisharp' 'bouffalant' 'rufflet' 'braviary' 'vullaby' 'mandibuzz'\n",
      " 'heatmor' 'durant' 'deino' 'zweilous' 'hydreigon' 'larvesta' 'volcarona'\n",
      " 'cobalion' 'terrakion' 'virizion' 'tornadus-incarnate'\n",
      " 'thundurus-incarnate' 'reshiram' 'zekrom' 'landorus-incarnate' 'kyurem'\n",
      " 'keldeo-ordinary' 'meloetta-aria' 'genesect' 'chespin' 'quilladin'\n",
      " 'chesnaught' 'fennekin' 'braixen' 'delphox' 'froakie' 'frogadier'\n",
      " 'greninja' 'bunnelby' 'diggersby' 'fletchling' 'fletchinder' 'talonflame'\n",
      " 'scatterbug' 'spewpa' 'vivillon' 'litleo' 'pyroar' 'flabebe' 'floette'\n",
      " 'florges' 'skiddo' 'gogoat' 'pancham' 'pangoro' 'furfrou' 'espurr'\n",
      " 'meowstic-male' 'honedge' 'doublade' 'aegislash-blade' 'spritzee'\n",
      " 'aromatisse' 'swirlix' 'slurpuff' 'inkay' 'malamar' 'binacle'\n",
      " 'barbaracle' 'skrelp' 'dragalge' 'clauncher' 'clawitzer' 'helioptile'\n",
      " 'heliolisk' 'tyrunt' 'tyrantrum' 'amaura' 'aurorus' 'sylveon' 'hawlucha'\n",
      " 'dedenne' 'carbink' 'goomy' 'sliggoo' 'goodra' 'klefki' 'phantump'\n",
      " 'trevenant' 'pumpkaboo-average' 'gourgeist-average' 'bergmite' 'avalugg'\n",
      " 'noibat' 'noivern' 'xerneas' 'yveltal' 'zygarde-50' 'diancie'\n",
      " 'hoopa-confined' 'volcanion' 'rowlet' 'dartrix' 'decidueye' 'litten'\n",
      " 'torracat' 'incineroar' 'popplio' 'brionne' 'primarina' 'pikipek'\n",
      " 'trumbeak' 'toucannon' 'yungoos' 'gumshoos' 'grubbin' 'charjabug'\n",
      " 'vikavolt' 'crabrawler' 'crabominable' 'oricorio-baile' 'cutiefly'\n",
      " 'ribombee' 'rockruff' 'lycanroc-midday' 'wishiwashi-solo' 'mareanie'\n",
      " 'toxapex' 'mudbray' 'mudsdale' 'dewpider' 'araquanid' 'fomantis'\n",
      " 'lurantis' 'morelull' 'shiinotic' 'salandit' 'salazzle' 'stufful'\n",
      " 'bewear' 'bounsweet' 'steenee' 'tsareena' 'comfey' 'oranguru' 'passimian'\n",
      " 'wimpod' 'golisopod' 'sandygast' 'palossand' 'pyukumuku' 'type-null'\n",
      " 'silvally' 'minior-meteor' 'komala' 'turtonator' 'togedemaru' 'mimikyu'\n",
      " 'bruxish' 'drampa' 'dhelmise' 'jangmo-o' 'hakamo-o' 'kommo-o' 'tapu-koko'\n",
      " 'tapu-lele' 'tapu-bulu' 'tapu-fini' 'cosmog' 'cosmoem' 'solgaleo'\n",
      " 'lunala' 'nihilego' 'buzzwole' 'pheromosa' 'xurkitree' 'celesteela'\n",
      " 'kartana' 'guzzlord' 'necrozma' 'magearna' 'marshadow' 'poipole'\n",
      " 'naganadel' 'stakataka' 'blacephalon' 'zeraora' 'meltan' 'melmetal']\n",
      "Type1 ['Grass' 'Fire' 'Water' 'Bug' 'Normal' 'Poison' 'Electric' 'Ground'\n",
      " 'Fairy' 'Fighting' 'Psychic' 'Rock' 'Ghost' 'Ice' 'Dragon' 'Dark' 'Steel'\n",
      " 'Flying']\n",
      "Type2 ['Poison' None 'Flying' 'Ground' 'Fairy' 'Grass' 'Fighting' 'Psychic'\n",
      " 'Steel' 'Ice' 'Rock' 'Water' 'Electric' 'Fire' 'Dragon' 'Dark' 'Ghost'\n",
      " 'Bug' 'Normal']\n"
     ]
    }
   ],
   "source": [
    "for c in categorical_columns:\n",
    "    print(c, data[c].unique())"
   ]
  },
  {
   "cell_type": "markdown",
   "metadata": {},
   "source": [
    "## Обрабатываем пропущенные значения\n",
    "\n",
    "Если данные содержат пропущенные значения, то имеется две простые альтернативы:\n",
    "- удалить столбцы с такими значениями (`data = data.dropna(axis = 1)`),\n",
    "- удалить строки с такими значениями (`data = data.dropna(axis = 0)`).\n",
    "\n",
    "После этого данных может стать совсем мало.\n",
    "\n",
    "Куда более эффективным (и в то же время по-прежнему простым) методом обычно является заполнение пропущенных значений для каждой количественной переменной их средним или медианным значением. \n",
    "Для категориальных признаков пропущенные значения можно заполнить самым популярным значением в столбце."
   ]
  },
  {
   "cell_type": "markdown",
   "metadata": {},
   "source": [
    "##### Пропуски в классах заполняем часто встречаемым значением:"
   ]
  },
  {
   "cell_type": "code",
   "execution_count": 46,
   "metadata": {},
   "outputs": [
    {
     "data": {
      "text/plain": [
       "Name     809\n",
       "Type1    809\n",
       "Type2    405\n",
       "dtype: int64"
      ]
     },
     "execution_count": 46,
     "metadata": {},
     "output_type": "execute_result"
    }
   ],
   "source": [
    "data[categorical_columns].count(axis = 0)"
   ]
  },
  {
   "cell_type": "code",
   "execution_count": 47,
   "metadata": {},
   "outputs": [
    {
     "data": {
      "text/plain": [
       "count        405\n",
       "unique        18\n",
       "top       Flying\n",
       "freq          95\n",
       "Name: Type2, dtype: object"
      ]
     },
     "execution_count": 47,
     "metadata": {},
     "output_type": "execute_result"
    }
   ],
   "source": [
    "data['Type2'].describe()"
   ]
  },
  {
   "cell_type": "code",
   "execution_count": 48,
   "metadata": {},
   "outputs": [
    {
     "data": {
      "text/plain": [
       "pandas.core.series.Series"
      ]
     },
     "execution_count": 48,
     "metadata": {},
     "output_type": "execute_result"
    }
   ],
   "source": [
    "type(data['Type2'].describe())"
   ]
  },
  {
   "cell_type": "code",
   "execution_count": 116,
   "metadata": {},
   "outputs": [
    {
     "data": {
      "text/plain": [
       "'Flying'"
      ]
     },
     "execution_count": 116,
     "metadata": {},
     "output_type": "execute_result"
    }
   ],
   "source": [
    "freq=data['Type2'].describe().top\n",
    "data['Type2'].describe().top"
   ]
  },
  {
   "cell_type": "code",
   "execution_count": 68,
   "metadata": {},
   "outputs": [],
   "source": [
    "data['Type2'] = data['Type2'].fillna(freq)\n"
   ]
  },
  {
   "cell_type": "code",
   "execution_count": 70,
   "metadata": {},
   "outputs": [
    {
     "data": {
      "text/html": [
       "<div>\n",
       "<style scoped>\n",
       "    .dataframe tbody tr th:only-of-type {\n",
       "        vertical-align: middle;\n",
       "    }\n",
       "\n",
       "    .dataframe tbody tr th {\n",
       "        vertical-align: top;\n",
       "    }\n",
       "\n",
       "    .dataframe thead th {\n",
       "        text-align: right;\n",
       "    }\n",
       "</style>\n",
       "<table border=\"1\" class=\"dataframe\">\n",
       "  <thead>\n",
       "    <tr style=\"text-align: right;\">\n",
       "      <th></th>\n",
       "      <th>Name</th>\n",
       "      <th>Type1</th>\n",
       "      <th>Type2</th>\n",
       "    </tr>\n",
       "  </thead>\n",
       "  <tbody>\n",
       "    <tr>\n",
       "      <th>count</th>\n",
       "      <td>809</td>\n",
       "      <td>809</td>\n",
       "      <td>809</td>\n",
       "    </tr>\n",
       "    <tr>\n",
       "      <th>unique</th>\n",
       "      <td>809</td>\n",
       "      <td>18</td>\n",
       "      <td>18</td>\n",
       "    </tr>\n",
       "    <tr>\n",
       "      <th>top</th>\n",
       "      <td>pidgeotto</td>\n",
       "      <td>Water</td>\n",
       "      <td>Flying</td>\n",
       "    </tr>\n",
       "    <tr>\n",
       "      <th>freq</th>\n",
       "      <td>1</td>\n",
       "      <td>114</td>\n",
       "      <td>499</td>\n",
       "    </tr>\n",
       "  </tbody>\n",
       "</table>\n",
       "</div>"
      ],
      "text/plain": [
       "             Name  Type1   Type2\n",
       "count         809    809     809\n",
       "unique        809     18      18\n",
       "top     pidgeotto  Water  Flying\n",
       "freq            1    114     499"
      ]
     },
     "execution_count": 70,
     "metadata": {},
     "output_type": "execute_result"
    }
   ],
   "source": [
    "data.describe(include = [object])"
   ]
  },
  {
   "cell_type": "markdown",
   "metadata": {},
   "source": [
    "##### Метод заполнения пропусков во всех номинальных признаках наиболее часто встречаемыми значениями:"
   ]
  },
  {
   "cell_type": "code",
   "execution_count": 71,
   "metadata": {},
   "outputs": [],
   "source": [
    "data_describe = data.describe(include = [object])\n",
    "for c in categorical_columns:\n",
    "    data[c] = data[c].fillna(data_describe[c]['top'])"
   ]
  },
  {
   "cell_type": "code",
   "execution_count": 72,
   "metadata": {},
   "outputs": [
    {
     "data": {
      "text/html": [
       "<div>\n",
       "<style scoped>\n",
       "    .dataframe tbody tr th:only-of-type {\n",
       "        vertical-align: middle;\n",
       "    }\n",
       "\n",
       "    .dataframe tbody tr th {\n",
       "        vertical-align: top;\n",
       "    }\n",
       "\n",
       "    .dataframe thead th {\n",
       "        text-align: right;\n",
       "    }\n",
       "</style>\n",
       "<table border=\"1\" class=\"dataframe\">\n",
       "  <thead>\n",
       "    <tr style=\"text-align: right;\">\n",
       "      <th></th>\n",
       "      <th>Name</th>\n",
       "      <th>Type1</th>\n",
       "      <th>Type2</th>\n",
       "    </tr>\n",
       "  </thead>\n",
       "  <tbody>\n",
       "    <tr>\n",
       "      <th>count</th>\n",
       "      <td>809</td>\n",
       "      <td>809</td>\n",
       "      <td>809</td>\n",
       "    </tr>\n",
       "    <tr>\n",
       "      <th>unique</th>\n",
       "      <td>809</td>\n",
       "      <td>18</td>\n",
       "      <td>18</td>\n",
       "    </tr>\n",
       "    <tr>\n",
       "      <th>top</th>\n",
       "      <td>pidgeotto</td>\n",
       "      <td>Water</td>\n",
       "      <td>Flying</td>\n",
       "    </tr>\n",
       "    <tr>\n",
       "      <th>freq</th>\n",
       "      <td>1</td>\n",
       "      <td>114</td>\n",
       "      <td>499</td>\n",
       "    </tr>\n",
       "  </tbody>\n",
       "</table>\n",
       "</div>"
      ],
      "text/plain": [
       "             Name  Type1   Type2\n",
       "count         809    809     809\n",
       "unique        809     18      18\n",
       "top     pidgeotto  Water  Flying\n",
       "freq            1    114     499"
      ]
     },
     "execution_count": 72,
     "metadata": {},
     "output_type": "execute_result"
    }
   ],
   "source": [
    "data.describe(include = [object])"
   ]
  },
  {
   "cell_type": "markdown",
   "metadata": {},
   "source": [
    "## Векторизация\n",
    "\n",
    "Нужно что-то сделать с категориальными (номинальными) признаками"
   ]
  },
  {
   "cell_type": "markdown",
   "metadata": {},
   "source": [
    "###### Выделение бинарных и небинарных признаков"
   ]
  },
  {
   "cell_type": "code",
   "execution_count": 73,
   "metadata": {},
   "outputs": [
    {
     "name": "stdout",
     "output_type": "stream",
     "text": [
      "[] ['Name', 'Type1', 'Type2']\n"
     ]
    }
   ],
   "source": [
    "binary_columns    = [c for c in categorical_columns if data_describe[c]['unique'] == 2]\n",
    "nonbinary_columns = [c for c in categorical_columns if data_describe[c]['unique'] > 2]\n",
    "print(binary_columns, nonbinary_columns)"
   ]
  },
  {
   "cell_type": "markdown",
   "metadata": {},
   "source": [
    "##### В нашей задаче нет бинарных признаков"
   ]
  },
  {
   "cell_type": "markdown",
   "metadata": {},
   "source": [
    "К небинарными признакам применим метод _векторизации_, \n",
    "который заключается в следующем.\n",
    "\n",
    "Признак `j`, принимающий `s` значений, заменим на `s` признаков, принимащих значения `0` или `1`,\n",
    "в зависимости от того, чему равно значение исходного признака `j`.\n",
    "\n",
    "Например, в нашей задаче признак `class` принимает 6 различных значений: "
   ]
  },
  {
   "cell_type": "markdown",
   "metadata": {},
   "source": [
    "Заменим признак `class` 6 признаками: `water`, `forest`, ..., `impervious`.\n",
    "\n",
    " - Если признак `class` принимает значение `water`, то признак `water` равен `1`, а все остальные равны `0`.\n",
    " - Если признак `class` принимает значение `forest`, то признак `forest` равен `1`, а все остальные равны `0`.\n",
    " - и т.д.\n",
    "\n",
    "##### Такую векторизацию осуществляет в pandas метод `get_dummies`:"
   ]
  },
  {
   "cell_type": "code",
   "execution_count": 75,
   "metadata": {},
   "outputs": [
    {
     "name": "stdout",
     "output_type": "stream",
     "text": [
      "Index(['Name_abomasnow', 'Name_abra', 'Name_absol', 'Name_accelgor',\n",
      "       'Name_aegislash-blade', 'Name_aerodactyl', 'Name_aggron', 'Name_aipom',\n",
      "       'Name_alakazam', 'Name_alomomola',\n",
      "       ...\n",
      "       'Type2_Ghost', 'Type2_Grass', 'Type2_Ground', 'Type2_Ice',\n",
      "       'Type2_Normal', 'Type2_Poison', 'Type2_Psychic', 'Type2_Rock',\n",
      "       'Type2_Steel', 'Type2_Water'],\n",
      "      dtype='object', length=845)\n"
     ]
    }
   ],
   "source": [
    "data_nonbinary = pd.get_dummies(data[nonbinary_columns])\n",
    "print(data_nonbinary.columns)"
   ]
  },
  {
   "cell_type": "code",
   "execution_count": 76,
   "metadata": {},
   "outputs": [
    {
     "data": {
      "text/html": [
       "<div>\n",
       "<style scoped>\n",
       "    .dataframe tbody tr th:only-of-type {\n",
       "        vertical-align: middle;\n",
       "    }\n",
       "\n",
       "    .dataframe tbody tr th {\n",
       "        vertical-align: top;\n",
       "    }\n",
       "\n",
       "    .dataframe thead th {\n",
       "        text-align: right;\n",
       "    }\n",
       "</style>\n",
       "<table border=\"1\" class=\"dataframe\">\n",
       "  <thead>\n",
       "    <tr style=\"text-align: right;\">\n",
       "      <th></th>\n",
       "      <th>Name</th>\n",
       "      <th>Type1</th>\n",
       "      <th>Type2</th>\n",
       "    </tr>\n",
       "  </thead>\n",
       "  <tbody>\n",
       "    <tr>\n",
       "      <th>count</th>\n",
       "      <td>809</td>\n",
       "      <td>809</td>\n",
       "      <td>809</td>\n",
       "    </tr>\n",
       "    <tr>\n",
       "      <th>unique</th>\n",
       "      <td>809</td>\n",
       "      <td>18</td>\n",
       "      <td>18</td>\n",
       "    </tr>\n",
       "    <tr>\n",
       "      <th>top</th>\n",
       "      <td>pidgeotto</td>\n",
       "      <td>Water</td>\n",
       "      <td>Flying</td>\n",
       "    </tr>\n",
       "    <tr>\n",
       "      <th>freq</th>\n",
       "      <td>1</td>\n",
       "      <td>114</td>\n",
       "      <td>499</td>\n",
       "    </tr>\n",
       "  </tbody>\n",
       "</table>\n",
       "</div>"
      ],
      "text/plain": [
       "             Name  Type1   Type2\n",
       "count         809    809     809\n",
       "unique        809     18      18\n",
       "top     pidgeotto  Water  Flying\n",
       "freq            1    114     499"
      ]
     },
     "execution_count": 76,
     "metadata": {},
     "output_type": "execute_result"
    }
   ],
   "source": [
    "data.describe()"
   ]
  },
  {
   "cell_type": "markdown",
   "metadata": {},
   "source": [
    "# X и y"
   ]
  },
  {
   "cell_type": "code",
   "execution_count": 77,
   "metadata": {},
   "outputs": [],
   "source": [
    "X = data.drop(('Name'), axis = 1) \n",
    "y = data['Name']\n",
    "feature_names = X.columns\n"
   ]
  },
  {
   "cell_type": "code",
   "execution_count": 78,
   "metadata": {},
   "outputs": [
    {
     "data": {
      "text/plain": [
       "pandas.core.indexes.base.Index"
      ]
     },
     "execution_count": 78,
     "metadata": {},
     "output_type": "execute_result"
    }
   ],
   "source": [
    "type(feature_names)"
   ]
  },
  {
   "cell_type": "markdown",
   "metadata": {},
   "source": [
    "##### Признаки без `Name`:"
   ]
  },
  {
   "cell_type": "code",
   "execution_count": 80,
   "metadata": {},
   "outputs": [
    {
     "data": {
      "text/plain": [
       "Index(['Type1', 'Type2'], dtype='object')"
      ]
     },
     "execution_count": 80,
     "metadata": {},
     "output_type": "execute_result"
    }
   ],
   "source": [
    "feature_names"
   ]
  },
  {
   "cell_type": "code",
   "execution_count": 81,
   "metadata": {},
   "outputs": [
    {
     "name": "stdout",
     "output_type": "stream",
     "text": [
      "(809, 2)\n",
      "(809,)\n"
     ]
    }
   ],
   "source": [
    "print(X.shape)\n",
    "print(y.shape)\n",
    "N, d = X.shape"
   ]
  },
  {
   "cell_type": "code",
   "execution_count": 82,
   "metadata": {},
   "outputs": [
    {
     "data": {
      "text/plain": [
       "pandas.core.frame.DataFrame"
      ]
     },
     "execution_count": 82,
     "metadata": {},
     "output_type": "execute_result"
    }
   ],
   "source": [
    "type(X)"
   ]
  },
  {
   "cell_type": "code",
   "execution_count": 83,
   "metadata": {},
   "outputs": [
    {
     "data": {
      "text/plain": [
       "pandas.core.series.Series"
      ]
     },
     "execution_count": 83,
     "metadata": {},
     "output_type": "execute_result"
    }
   ],
   "source": [
    "type(y)"
   ]
  },
  {
   "cell_type": "markdown",
   "metadata": {},
   "source": [
    "##### Разбиваем выборку на обучающую и тестовую. На тест даем 30% выборки:"
   ]
  },
  {
   "cell_type": "code",
   "execution_count": 84,
   "metadata": {},
   "outputs": [
    {
     "name": "stdout",
     "output_type": "stream",
     "text": [
      "566 243\n"
     ]
    }
   ],
   "source": [
    "from sklearn.model_selection import train_test_split\n",
    "X_train, X_test, y_train, y_test = train_test_split(X, y, test_size = 0.3, random_state = 42)\n",
    "\n",
    "N_train, _ = X_train.shape \n",
    "N_test,  _ = X_test.shape \n",
    "\n",
    "print(N_train, N_test)"
   ]
  },
  {
   "cell_type": "code",
   "execution_count": 85,
   "metadata": {},
   "outputs": [
    {
     "data": {
      "text/plain": [
       "809"
      ]
     },
     "execution_count": 85,
     "metadata": {},
     "output_type": "execute_result"
    }
   ],
   "source": [
    "566 + 243"
   ]
  }
 ],
 "metadata": {
  "kernelspec": {
   "display_name": "Python 3",
   "language": "python",
   "name": "python3"
  },
  "language_info": {
   "codemirror_mode": {
    "name": "ipython",
    "version": 3
   },
   "file_extension": ".py",
   "mimetype": "text/x-python",
   "name": "python",
   "nbconvert_exporter": "python",
   "pygments_lexer": "ipython3",
   "version": "3.7.3"
  }
 },
 "nbformat": 4,
 "nbformat_minor": 1
}
